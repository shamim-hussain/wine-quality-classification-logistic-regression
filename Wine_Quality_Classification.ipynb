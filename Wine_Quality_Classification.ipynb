{
  "nbformat": 4,
  "nbformat_minor": 0,
  "metadata": {
    "colab": {
      "name": "Wine Quality Classification.ipynb",
      "provenance": [],
      "collapsed_sections": [],
      "toc_visible": true,
      "authorship_tag": "ABX9TyN/QW7U3H0EzrPSBLPq4D3J",
      "include_colab_link": true
    },
    "kernelspec": {
      "name": "python3",
      "display_name": "Python 3"
    },
    "language_info": {
      "name": "python"
    }
  },
  "cells": [
    {
      "cell_type": "markdown",
      "metadata": {
        "id": "view-in-github",
        "colab_type": "text"
      },
      "source": [
        "<a href=\"https://colab.research.google.com/github/shamim-hussain/wine-quality-classification-logistic-regression/blob/main/Wine_Quality_Classification.ipynb\" target=\"_parent\"><img src=\"https://colab.research.google.com/assets/colab-badge.svg\" alt=\"Open In Colab\"/></a>"
      ]
    },
    {
      "cell_type": "markdown",
      "metadata": {
        "id": "1HYWyvzGy5r0"
      },
      "source": [
        "# Wine Quality Classification\n",
        "We will classifiy wines into either \"good\" or \"bad\" categories based on different chemical properties. It makes sense to do logistic regression for this problem because the features (chemical properties) should have approximately a positive/negative lenear correlation with the quality. The dataset - \n",
        "\n",
        "Dataset Link: https://archive.ics.uci.edu/ml/datasets/wine+quality\n",
        "\n",
        "It is moderate in size, which is ideal for logistic regression, because more complicated models may overfit the data. The quality is given as a rank, although we can turn it into a binary target, i.e., bad/good."
      ]
    },
    {
      "cell_type": "markdown",
      "metadata": {
        "id": "gD6FDIz5zBGI"
      },
      "source": [
        "# Download and Process the Dataset"
      ]
    },
    {
      "cell_type": "markdown",
      "metadata": {
        "id": "gq8y2j1WzITg"
      },
      "source": [
        "## Download\n",
        "We will be using the \"white wine\" dataset."
      ]
    },
    {
      "cell_type": "code",
      "metadata": {
        "id": "IG5AicFZv87m",
        "colab": {
          "base_uri": "https://localhost:8080/"
        },
        "outputId": "9f37a8e6-ac84-4d57-dae5-4a629684ee6a"
      },
      "source": [
        "!wget https://archive.ics.uci.edu/ml/machine-learning-databases/wine-quality/winequality-white.csv"
      ],
      "execution_count": 1,
      "outputs": [
        {
          "output_type": "stream",
          "name": "stdout",
          "text": [
            "--2021-09-10 03:43:31--  https://archive.ics.uci.edu/ml/machine-learning-databases/wine-quality/winequality-white.csv\n",
            "Resolving archive.ics.uci.edu (archive.ics.uci.edu)... 128.195.10.252\n",
            "Connecting to archive.ics.uci.edu (archive.ics.uci.edu)|128.195.10.252|:443... connected.\n",
            "HTTP request sent, awaiting response... 200 OK\n",
            "Length: 264426 (258K) [application/x-httpd-php]\n",
            "Saving to: ‘winequality-white.csv’\n",
            "\n",
            "winequality-white.c 100%[===================>] 258.23K  1.26MB/s    in 0.2s    \n",
            "\n",
            "2021-09-10 03:43:32 (1.26 MB/s) - ‘winequality-white.csv’ saved [264426/264426]\n",
            "\n"
          ]
        }
      ]
    },
    {
      "cell_type": "markdown",
      "metadata": {
        "id": "MnKMH6DtzjLT"
      },
      "source": [
        "## Open dataset"
      ]
    },
    {
      "cell_type": "code",
      "metadata": {
        "colab": {
          "base_uri": "https://localhost:8080/",
          "height": 238
        },
        "id": "ZyR2M3gcypfQ",
        "outputId": "6744b3ff-44a0-4a29-e007-28d8d9f23dc0"
      },
      "source": [
        "import pandas as pd\n",
        "\n",
        "dataset = pd.read_csv('winequality-white.csv', sep=';')\n",
        "dataset.head()"
      ],
      "execution_count": 15,
      "outputs": [
        {
          "output_type": "execute_result",
          "data": {
            "text/html": [
              "<div>\n",
              "<style scoped>\n",
              "    .dataframe tbody tr th:only-of-type {\n",
              "        vertical-align: middle;\n",
              "    }\n",
              "\n",
              "    .dataframe tbody tr th {\n",
              "        vertical-align: top;\n",
              "    }\n",
              "\n",
              "    .dataframe thead th {\n",
              "        text-align: right;\n",
              "    }\n",
              "</style>\n",
              "<table border=\"1\" class=\"dataframe\">\n",
              "  <thead>\n",
              "    <tr style=\"text-align: right;\">\n",
              "      <th></th>\n",
              "      <th>fixed acidity</th>\n",
              "      <th>volatile acidity</th>\n",
              "      <th>citric acid</th>\n",
              "      <th>residual sugar</th>\n",
              "      <th>chlorides</th>\n",
              "      <th>free sulfur dioxide</th>\n",
              "      <th>total sulfur dioxide</th>\n",
              "      <th>density</th>\n",
              "      <th>pH</th>\n",
              "      <th>sulphates</th>\n",
              "      <th>alcohol</th>\n",
              "      <th>quality</th>\n",
              "    </tr>\n",
              "  </thead>\n",
              "  <tbody>\n",
              "    <tr>\n",
              "      <th>0</th>\n",
              "      <td>7.0</td>\n",
              "      <td>0.27</td>\n",
              "      <td>0.36</td>\n",
              "      <td>20.7</td>\n",
              "      <td>0.045</td>\n",
              "      <td>45.0</td>\n",
              "      <td>170.0</td>\n",
              "      <td>1.0010</td>\n",
              "      <td>3.00</td>\n",
              "      <td>0.45</td>\n",
              "      <td>8.8</td>\n",
              "      <td>6</td>\n",
              "    </tr>\n",
              "    <tr>\n",
              "      <th>1</th>\n",
              "      <td>6.3</td>\n",
              "      <td>0.30</td>\n",
              "      <td>0.34</td>\n",
              "      <td>1.6</td>\n",
              "      <td>0.049</td>\n",
              "      <td>14.0</td>\n",
              "      <td>132.0</td>\n",
              "      <td>0.9940</td>\n",
              "      <td>3.30</td>\n",
              "      <td>0.49</td>\n",
              "      <td>9.5</td>\n",
              "      <td>6</td>\n",
              "    </tr>\n",
              "    <tr>\n",
              "      <th>2</th>\n",
              "      <td>8.1</td>\n",
              "      <td>0.28</td>\n",
              "      <td>0.40</td>\n",
              "      <td>6.9</td>\n",
              "      <td>0.050</td>\n",
              "      <td>30.0</td>\n",
              "      <td>97.0</td>\n",
              "      <td>0.9951</td>\n",
              "      <td>3.26</td>\n",
              "      <td>0.44</td>\n",
              "      <td>10.1</td>\n",
              "      <td>6</td>\n",
              "    </tr>\n",
              "    <tr>\n",
              "      <th>3</th>\n",
              "      <td>7.2</td>\n",
              "      <td>0.23</td>\n",
              "      <td>0.32</td>\n",
              "      <td>8.5</td>\n",
              "      <td>0.058</td>\n",
              "      <td>47.0</td>\n",
              "      <td>186.0</td>\n",
              "      <td>0.9956</td>\n",
              "      <td>3.19</td>\n",
              "      <td>0.40</td>\n",
              "      <td>9.9</td>\n",
              "      <td>6</td>\n",
              "    </tr>\n",
              "    <tr>\n",
              "      <th>4</th>\n",
              "      <td>7.2</td>\n",
              "      <td>0.23</td>\n",
              "      <td>0.32</td>\n",
              "      <td>8.5</td>\n",
              "      <td>0.058</td>\n",
              "      <td>47.0</td>\n",
              "      <td>186.0</td>\n",
              "      <td>0.9956</td>\n",
              "      <td>3.19</td>\n",
              "      <td>0.40</td>\n",
              "      <td>9.9</td>\n",
              "      <td>6</td>\n",
              "    </tr>\n",
              "  </tbody>\n",
              "</table>\n",
              "</div>"
            ],
            "text/plain": [
              "   fixed acidity  volatile acidity  citric acid  ...  sulphates  alcohol  quality\n",
              "0            7.0              0.27         0.36  ...       0.45      8.8        6\n",
              "1            6.3              0.30         0.34  ...       0.49      9.5        6\n",
              "2            8.1              0.28         0.40  ...       0.44     10.1        6\n",
              "3            7.2              0.23         0.32  ...       0.40      9.9        6\n",
              "4            7.2              0.23         0.32  ...       0.40      9.9        6\n",
              "\n",
              "[5 rows x 12 columns]"
            ]
          },
          "metadata": {},
          "execution_count": 15
        }
      ]
    },
    {
      "cell_type": "markdown",
      "metadata": {
        "id": "bwQmW1m024so"
      },
      "source": [
        "Let's check for missing data."
      ]
    },
    {
      "cell_type": "code",
      "metadata": {
        "colab": {
          "base_uri": "https://localhost:8080/"
        },
        "id": "EdpWE5so2q0Z",
        "outputId": "e7860979-7e58-40f0-acbc-0cd7e38461d1"
      },
      "source": [
        "dataset.info()"
      ],
      "execution_count": 16,
      "outputs": [
        {
          "output_type": "stream",
          "name": "stdout",
          "text": [
            "<class 'pandas.core.frame.DataFrame'>\n",
            "RangeIndex: 4898 entries, 0 to 4897\n",
            "Data columns (total 12 columns):\n",
            " #   Column                Non-Null Count  Dtype  \n",
            "---  ------                --------------  -----  \n",
            " 0   fixed acidity         4898 non-null   float64\n",
            " 1   volatile acidity      4898 non-null   float64\n",
            " 2   citric acid           4898 non-null   float64\n",
            " 3   residual sugar        4898 non-null   float64\n",
            " 4   chlorides             4898 non-null   float64\n",
            " 5   free sulfur dioxide   4898 non-null   float64\n",
            " 6   total sulfur dioxide  4898 non-null   float64\n",
            " 7   density               4898 non-null   float64\n",
            " 8   pH                    4898 non-null   float64\n",
            " 9   sulphates             4898 non-null   float64\n",
            " 10  alcohol               4898 non-null   float64\n",
            " 11  quality               4898 non-null   int64  \n",
            "dtypes: float64(11), int64(1)\n",
            "memory usage: 459.3 KB\n"
          ]
        }
      ]
    },
    {
      "cell_type": "markdown",
      "metadata": {
        "id": "LVMzalBv2hyk"
      },
      "source": [
        "No missing data. We also wanna know the min, max, std of the columns"
      ]
    },
    {
      "cell_type": "code",
      "metadata": {
        "colab": {
          "base_uri": "https://localhost:8080/",
          "height": 351
        },
        "id": "iSx2_t7a3OPk",
        "outputId": "06667519-0690-49c6-fb84-b84aea30ba55"
      },
      "source": [
        "dataset.describe()"
      ],
      "execution_count": 17,
      "outputs": [
        {
          "output_type": "execute_result",
          "data": {
            "text/html": [
              "<div>\n",
              "<style scoped>\n",
              "    .dataframe tbody tr th:only-of-type {\n",
              "        vertical-align: middle;\n",
              "    }\n",
              "\n",
              "    .dataframe tbody tr th {\n",
              "        vertical-align: top;\n",
              "    }\n",
              "\n",
              "    .dataframe thead th {\n",
              "        text-align: right;\n",
              "    }\n",
              "</style>\n",
              "<table border=\"1\" class=\"dataframe\">\n",
              "  <thead>\n",
              "    <tr style=\"text-align: right;\">\n",
              "      <th></th>\n",
              "      <th>fixed acidity</th>\n",
              "      <th>volatile acidity</th>\n",
              "      <th>citric acid</th>\n",
              "      <th>residual sugar</th>\n",
              "      <th>chlorides</th>\n",
              "      <th>free sulfur dioxide</th>\n",
              "      <th>total sulfur dioxide</th>\n",
              "      <th>density</th>\n",
              "      <th>pH</th>\n",
              "      <th>sulphates</th>\n",
              "      <th>alcohol</th>\n",
              "      <th>quality</th>\n",
              "    </tr>\n",
              "  </thead>\n",
              "  <tbody>\n",
              "    <tr>\n",
              "      <th>count</th>\n",
              "      <td>4898.000000</td>\n",
              "      <td>4898.000000</td>\n",
              "      <td>4898.000000</td>\n",
              "      <td>4898.000000</td>\n",
              "      <td>4898.000000</td>\n",
              "      <td>4898.000000</td>\n",
              "      <td>4898.000000</td>\n",
              "      <td>4898.000000</td>\n",
              "      <td>4898.000000</td>\n",
              "      <td>4898.000000</td>\n",
              "      <td>4898.000000</td>\n",
              "      <td>4898.000000</td>\n",
              "    </tr>\n",
              "    <tr>\n",
              "      <th>mean</th>\n",
              "      <td>6.854788</td>\n",
              "      <td>0.278241</td>\n",
              "      <td>0.334192</td>\n",
              "      <td>6.391415</td>\n",
              "      <td>0.045772</td>\n",
              "      <td>35.308085</td>\n",
              "      <td>138.360657</td>\n",
              "      <td>0.994027</td>\n",
              "      <td>3.188267</td>\n",
              "      <td>0.489847</td>\n",
              "      <td>10.514267</td>\n",
              "      <td>5.877909</td>\n",
              "    </tr>\n",
              "    <tr>\n",
              "      <th>std</th>\n",
              "      <td>0.843868</td>\n",
              "      <td>0.100795</td>\n",
              "      <td>0.121020</td>\n",
              "      <td>5.072058</td>\n",
              "      <td>0.021848</td>\n",
              "      <td>17.007137</td>\n",
              "      <td>42.498065</td>\n",
              "      <td>0.002991</td>\n",
              "      <td>0.151001</td>\n",
              "      <td>0.114126</td>\n",
              "      <td>1.230621</td>\n",
              "      <td>0.885639</td>\n",
              "    </tr>\n",
              "    <tr>\n",
              "      <th>min</th>\n",
              "      <td>3.800000</td>\n",
              "      <td>0.080000</td>\n",
              "      <td>0.000000</td>\n",
              "      <td>0.600000</td>\n",
              "      <td>0.009000</td>\n",
              "      <td>2.000000</td>\n",
              "      <td>9.000000</td>\n",
              "      <td>0.987110</td>\n",
              "      <td>2.720000</td>\n",
              "      <td>0.220000</td>\n",
              "      <td>8.000000</td>\n",
              "      <td>3.000000</td>\n",
              "    </tr>\n",
              "    <tr>\n",
              "      <th>25%</th>\n",
              "      <td>6.300000</td>\n",
              "      <td>0.210000</td>\n",
              "      <td>0.270000</td>\n",
              "      <td>1.700000</td>\n",
              "      <td>0.036000</td>\n",
              "      <td>23.000000</td>\n",
              "      <td>108.000000</td>\n",
              "      <td>0.991723</td>\n",
              "      <td>3.090000</td>\n",
              "      <td>0.410000</td>\n",
              "      <td>9.500000</td>\n",
              "      <td>5.000000</td>\n",
              "    </tr>\n",
              "    <tr>\n",
              "      <th>50%</th>\n",
              "      <td>6.800000</td>\n",
              "      <td>0.260000</td>\n",
              "      <td>0.320000</td>\n",
              "      <td>5.200000</td>\n",
              "      <td>0.043000</td>\n",
              "      <td>34.000000</td>\n",
              "      <td>134.000000</td>\n",
              "      <td>0.993740</td>\n",
              "      <td>3.180000</td>\n",
              "      <td>0.470000</td>\n",
              "      <td>10.400000</td>\n",
              "      <td>6.000000</td>\n",
              "    </tr>\n",
              "    <tr>\n",
              "      <th>75%</th>\n",
              "      <td>7.300000</td>\n",
              "      <td>0.320000</td>\n",
              "      <td>0.390000</td>\n",
              "      <td>9.900000</td>\n",
              "      <td>0.050000</td>\n",
              "      <td>46.000000</td>\n",
              "      <td>167.000000</td>\n",
              "      <td>0.996100</td>\n",
              "      <td>3.280000</td>\n",
              "      <td>0.550000</td>\n",
              "      <td>11.400000</td>\n",
              "      <td>6.000000</td>\n",
              "    </tr>\n",
              "    <tr>\n",
              "      <th>max</th>\n",
              "      <td>14.200000</td>\n",
              "      <td>1.100000</td>\n",
              "      <td>1.660000</td>\n",
              "      <td>65.800000</td>\n",
              "      <td>0.346000</td>\n",
              "      <td>289.000000</td>\n",
              "      <td>440.000000</td>\n",
              "      <td>1.038980</td>\n",
              "      <td>3.820000</td>\n",
              "      <td>1.080000</td>\n",
              "      <td>14.200000</td>\n",
              "      <td>9.000000</td>\n",
              "    </tr>\n",
              "  </tbody>\n",
              "</table>\n",
              "</div>"
            ],
            "text/plain": [
              "       fixed acidity  volatile acidity  ...      alcohol      quality\n",
              "count    4898.000000       4898.000000  ...  4898.000000  4898.000000\n",
              "mean        6.854788          0.278241  ...    10.514267     5.877909\n",
              "std         0.843868          0.100795  ...     1.230621     0.885639\n",
              "min         3.800000          0.080000  ...     8.000000     3.000000\n",
              "25%         6.300000          0.210000  ...     9.500000     5.000000\n",
              "50%         6.800000          0.260000  ...    10.400000     6.000000\n",
              "75%         7.300000          0.320000  ...    11.400000     6.000000\n",
              "max        14.200000          1.100000  ...    14.200000     9.000000\n",
              "\n",
              "[8 rows x 12 columns]"
            ]
          },
          "metadata": {},
          "execution_count": 17
        }
      ]
    },
    {
      "cell_type": "markdown",
      "metadata": {
        "id": "EeccF1b25wTI"
      },
      "source": [
        "# Splitting the dataset into train and test."
      ]
    },
    {
      "cell_type": "markdown",
      "metadata": {
        "id": "aB4C7Rer7Kz0"
      },
      "source": [
        "We will do a 80/20 split for train and test"
      ]
    },
    {
      "cell_type": "code",
      "metadata": {
        "id": "W-t5ti8K5vkv"
      },
      "source": [
        "# Shuffle the dataset\n",
        "dataset = dataset.sample(frac=1).reset_index(drop=True)\n",
        "\n",
        "trainset_len = int(len(dataset)*.8)\n",
        "trainset = dataset.iloc[:trainset_len].reset_index(drop=True)\n",
        "testset = dataset.iloc[trainset_len:].reset_index(drop=True)"
      ],
      "execution_count": 34,
      "outputs": []
    },
    {
      "cell_type": "markdown",
      "metadata": {
        "id": "Jl2wlzI31zF0"
      },
      "source": [
        "# Separate features and target and binarize target\n",
        "We will predict the quality, but since we wish to explore a binary classification problem. The 50-percentile is 6 so we will assign qualities as such -\n",
        "\n",
        "**Bad:0** -> When quality between 0-5\n",
        "\n",
        "**Good:1** -> When quality between 6-9\n",
        "\n",
        "Also convert everything to float while at it."
      ]
    },
    {
      "cell_type": "code",
      "metadata": {
        "id": "-DF_Fdg80TkE"
      },
      "source": [
        "train_features = trainset.drop('quality', axis=1).astype('float32')\n",
        "train_targets = (trainset['quality'] > 5).astype('float32')\n",
        "\n",
        "test_features = testset.drop('quality', axis=1).astype('float32')\n",
        "test_targets = (testset['quality'] > 5).astype('float32')"
      ],
      "execution_count": 36,
      "outputs": []
    },
    {
      "cell_type": "markdown",
      "metadata": {
        "id": "OZmTAarw5nKc"
      },
      "source": [
        "# Standardizing input features"
      ]
    },
    {
      "cell_type": "markdown",
      "metadata": {
        "id": "vPPEV76t8IKA"
      },
      "source": [
        "Let's have a look at the distributions of the training features."
      ]
    },
    {
      "cell_type": "code",
      "metadata": {
        "colab": {
          "base_uri": "https://localhost:8080/",
          "height": 716
        },
        "id": "42ifc1oV8Hpw",
        "outputId": "6946faf0-2951-4e2f-ab5d-29a22206ce75"
      },
      "source": [
        "plots = train_features.hist(figsize=[12,12])"
      ],
      "execution_count": 41,
      "outputs": [
        {
          "output_type": "display_data",
          "data": {
            "image/png": "[encoded data removed]",
            "text/plain": [
              "<Figure size 864x864 with 12 Axes>"
            ]
          },
          "metadata": {
            "needs_background": "light"
          }
        }
      ]
    },
    {
      "cell_type": "markdown",
      "metadata": {
        "id": "PRqBUEgB8xnj"
      },
      "source": [
        "Very different distributions. So we standardize them before training."
      ]
    },
    {
      "cell_type": "code",
      "metadata": {
        "id": "CwRO_qqx8vql"
      },
      "source": [
        "feat_mean = train_features.mean()\n",
        "feat_std = train_features.std()\n",
        "\n",
        "train_features = (train_features - feat_mean)/feat_std\n",
        "test_features = (test_features - feat_mean)/feat_std\n"
      ],
      "execution_count": 42,
      "outputs": []
    },
    {
      "cell_type": "markdown",
      "metadata": {
        "id": "LpkiK8C29f-q"
      },
      "source": [
        "Plot them again"
      ]
    },
    {
      "cell_type": "code",
      "metadata": {
        "colab": {
          "base_uri": "https://localhost:8080/",
          "height": 716
        },
        "id": "Uia4-tDh9i5K",
        "outputId": "e3d3729b-4502-4937-99ef-fb29e885e1b7"
      },
      "source": [
        "plots = train_features.hist(figsize=[12,12])"
      ],
      "execution_count": 43,
      "outputs": [
        {
          "output_type": "display_data",
          "data": {
            "image/png": "[encoded data removed]",
            "text/plain": [
              "<Figure size 864x864 with 12 Axes>"
            ]
          },
          "metadata": {
            "needs_background": "light"
          }
        }
      ]
    },
    {
      "cell_type": "markdown",
      "metadata": {
        "id": "_LMl4FmQ9wfh"
      },
      "source": [
        "Looks better. Now to convert them to numpy arrays."
      ]
    },
    {
      "cell_type": "code",
      "metadata": {
        "id": "d7zNdGeB968A"
      },
      "source": [
        "X_train = train_features.values\n",
        "Y_train = train_targets.values\n",
        "\n",
        "X_test = test_features.values\n",
        "Y_test = test_targets.values"
      ],
      "execution_count": 45,
      "outputs": []
    },
    {
      "cell_type": "markdown",
      "metadata": {
        "id": "ENli_W12-Obe"
      },
      "source": [
        "# Logistic Regression"
      ]
    },
    {
      "cell_type": "markdown",
      "metadata": {
        "id": "A_YanJphADnE"
      },
      "source": [
        "Let us first write a function to calculate the loss and also the gradient of the loss."
      ]
    },
    {
      "cell_type": "code",
      "metadata": {
        "id": "Y08kt4FhACEe"
      },
      "source": [
        "import numpy as np\n",
        "\n",
        "def sigmoid(x):\n",
        "    return 1/(1+np.exp(-x))\n",
        "\n",
        "def predict(w,b,X):\n",
        "    return sigmoid(np.dot(X,w) + b)\n",
        "\n",
        "def loss(Y,A,eps=1e-7):\n",
        "    A_cliped = np.clip(A, eps, 1-eps)\n",
        "    return -np.mean(Y * np.log(A) + (1-Y) * (np.log(1-A)))\n",
        "\n",
        "def gradients(X,Y,A):\n",
        "    dw = np.dot(X.T, A-Y)/X.shape[0]\n",
        "    db = np.mean(A-Y)\n",
        "    return dw, db\n",
        "\n",
        "def accuracy(Y_true, Y_pred):\n",
        "    return np.mean((Y_true==Y_pred).astype('float32'))\n"
      ],
      "execution_count": 85,
      "outputs": []
    },
    {
      "cell_type": "markdown",
      "metadata": {
        "id": "EDA9cQ1ceBJr"
      },
      "source": [
        "# Batch Gradient Descent"
      ]
    },
    {
      "cell_type": "code",
      "metadata": {
        "colab": {
          "base_uri": "https://localhost:8080/",
          "height": 298
        },
        "id": "eamf7K2S-N_O",
        "outputId": "4a035fdf-5cf3-49e2-bd69-86ce68c92436"
      },
      "source": [
        "from tqdm import tqdm\n",
        "import matplotlib.pyplot as plt\n",
        "\n",
        "\n",
        "num_steps = 5000\n",
        "learning_rate = 0.01\n",
        "\n",
        "num_features = X_train.shape[1]\n",
        "w = np.zeros((num_features,), dtype='float32')\n",
        "b = np.array(0., dtype='float32')\n",
        "\n",
        "loss_at_step = np.zeros((num_steps,),dtype='float32')\n",
        "X = X_train\n",
        "Y = Y_train\n",
        "for step in tqdm(range(num_steps)):\n",
        "    A = predict(w,b,X)\n",
        "    loss_at_step[step] = loss(Y, A)\n",
        "    dw, db = gradients(X,Y,A)\n",
        "    w[()] = w - learning_rate*dw\n",
        "    b = b - learning_rate*db\n",
        "\n",
        "plt.figure()\n",
        "plt.plot(loss_at_step)\n",
        "plt.xlabel('Training Step')\n",
        "plt.ylabel('Loss')\n",
        "plt.show()"
      ],
      "execution_count": 90,
      "outputs": [
        {
          "output_type": "stream",
          "name": "stderr",
          "text": [
            "100%|██████████| 5000/5000 [00:01<00:00, 3294.92it/s]\n"
          ]
        },
        {
          "output_type": "display_data",
          "data": {
            "image/png": "[encoded data removed]",
            "text/plain": [
              "<Figure size 432x288 with 1 Axes>"
            ]
          },
          "metadata": {
            "needs_background": "light"
          }
        }
      ]
    },
    {
      "cell_type": "markdown",
      "metadata": {
        "id": "70uwBYQsfZ9I"
      },
      "source": [
        "## Results"
      ]
    },
    {
      "cell_type": "code",
      "metadata": {
        "colab": {
          "base_uri": "https://localhost:8080/"
        },
        "id": "DQg95Y0ObhP8",
        "outputId": "738a0c45-1ed3-4c06-8ba6-72d4bcdcdd99"
      },
      "source": [
        "print(f'Weights: {w}')\n",
        "print(f'Bias: {b}')\n"
      ],
      "execution_count": 91,
      "outputs": [
        {
          "output_type": "stream",
          "name": "stdout",
          "text": [
            "Weights: [-0.06174603 -0.6427972   0.02835472  0.5877932   0.02887898  0.16200893\n",
            " -0.10275589 -0.35207963  0.0880068   0.15806429  1.0985469 ]\n",
            "Bias: 0.888016828019169\n"
          ]
        }
      ]
    },
    {
      "cell_type": "code",
      "metadata": {
        "colab": {
          "base_uri": "https://localhost:8080/"
        },
        "id": "ZwbNwR_Ie-yT",
        "outputId": "6e00b395-10ce-434d-b82c-00d39836622e"
      },
      "source": [
        "acc_train = accuracy(Y_train, np.round(predict(w,b, X_train)))\n",
        "acc_test = accuracy(Y_test, np.round(predict(w,b, X_test)))\n",
        "\n",
        "print(f'Training accuracy = {acc_train:0.3%}')\n",
        "print(f'Test accuracy = {acc_test:0.3%}')"
      ],
      "execution_count": 92,
      "outputs": [
        {
          "output_type": "stream",
          "name": "stdout",
          "text": [
            "Training accuracy = 75.523%\n",
            "Test accuracy = 75.000%\n"
          ]
        }
      ]
    },
    {
      "cell_type": "markdown",
      "metadata": {
        "id": "O7Og_TDsg-GN"
      },
      "source": [
        "# Mini-batch Gradient Descent"
      ]
    },
    {
      "cell_type": "code",
      "metadata": {
        "colab": {
          "base_uri": "https://localhost:8080/",
          "height": 298
        },
        "id": "jvNhvqTdg-GT",
        "outputId": "503f306d-49d1-4e84-f848-4c7bf0387eaa"
      },
      "source": [
        "from tqdm import tqdm\n",
        "import matplotlib.pyplot as plt\n",
        "\n",
        "\n",
        "num_steps = 5000\n",
        "batch_size = 64\n",
        "learning_rate = 0.01\n",
        "\n",
        "num_features = X_train.shape[1]\n",
        "w = np.zeros((num_features,), dtype='float32')\n",
        "b = np.array(0., dtype='float32')\n",
        "\n",
        "loss_at_step = np.zeros((num_steps,),dtype='float32')\n",
        "\n",
        "\n",
        "indices = np.arange(X_train.shape[0])\n",
        "np.random.shuffle(indices)\n",
        "batch_end = batch_size\n",
        "for step in tqdm(range(num_steps)):\n",
        "    batch_indices = indices[batch_end-batch_size:batch_end]\n",
        "    X = X_train[batch_indices]\n",
        "    Y = Y_train[batch_indices]\n",
        "\n",
        "    loss_at_step[step] = loss(Y_train, predict(w,b,X_train))\n",
        "    A = predict(w,b,X)\n",
        "    dw, db = gradients(X,Y,A)\n",
        "    w[()] = w - learning_rate*dw\n",
        "    b = b - learning_rate*db\n",
        "\n",
        "    batch_end += batch_size\n",
        "    if batch_end > X_train.shape[0]:\n",
        "        np.random.shuffle(indices)\n",
        "        batch_end = batch_size\n",
        "\n",
        "\n",
        "plt.figure()\n",
        "plt.plot(loss_at_step)\n",
        "plt.xlabel('Training Step')\n",
        "plt.ylabel('Loss')\n",
        "plt.show()"
      ],
      "execution_count": 129,
      "outputs": [
        {
          "output_type": "stream",
          "name": "stderr",
          "text": [
            "100%|██████████| 5000/5000 [00:01<00:00, 2979.40it/s]\n"
          ]
        },
        {
          "output_type": "display_data",
          "data": {
            "image/png": "[encoded data removed]",
            "text/plain": [
              "<Figure size 432x288 with 1 Axes>"
            ]
          },
          "metadata": {
            "needs_background": "light"
          }
        }
      ]
    },
    {
      "cell_type": "markdown",
      "metadata": {
        "id": "4ESxB3N8g-GU"
      },
      "source": [
        "## Results"
      ]
    },
    {
      "cell_type": "code",
      "metadata": {
        "colab": {
          "base_uri": "https://localhost:8080/"
        },
        "id": "9BS5tkpFg-GU",
        "outputId": "02dc34f2-4fb2-4d37-ad22-f30ac2d7c1d8"
      },
      "source": [
        "print(f'Weights: {w}')\n",
        "print(f'Bias: {b}')\n"
      ],
      "execution_count": 130,
      "outputs": [
        {
          "output_type": "stream",
          "name": "stdout",
          "text": [
            "Weights: [-0.06102977 -0.64183927  0.02755282  0.5873653   0.0293634   0.16099717\n",
            " -0.1039864  -0.35224828  0.08599368  0.15818633  1.0996914 ]\n",
            "Bias: 0.8867037233710254\n"
          ]
        }
      ]
    },
    {
      "cell_type": "code",
      "metadata": {
        "colab": {
          "base_uri": "https://localhost:8080/"
        },
        "id": "oWkzQVHSg-GU",
        "outputId": "4c5b145e-6b5e-4564-818d-320e659fd845"
      },
      "source": [
        "acc_train = accuracy(Y_train, np.round(predict(w,b, X_train)))\n",
        "acc_test = accuracy(Y_test, np.round(predict(w,b, X_test)))\n",
        "\n",
        "print(f'Training accuracy = {acc_train:0.3%}')\n",
        "print(f'Test accuracy = {acc_test:0.3%}')"
      ],
      "execution_count": 131,
      "outputs": [
        {
          "output_type": "stream",
          "name": "stdout",
          "text": [
            "Training accuracy = 75.549%\n",
            "Test accuracy = 74.898%\n"
          ]
        }
      ]
    },
    {
      "cell_type": "markdown",
      "metadata": {
        "id": "ki9Y3wW5jQAM"
      },
      "source": [
        "# RMSprop"
      ]
    },
    {
      "cell_type": "code",
      "metadata": {
        "colab": {
          "base_uri": "https://localhost:8080/",
          "height": 352
        },
        "id": "q5MlML8ejQAM",
        "outputId": "c44610db-46cf-4c62-8dd8-bc40e4d51b6e"
      },
      "source": [
        "from tqdm import tqdm\n",
        "import matplotlib.pyplot as plt\n",
        "import tensorflow as tf\n",
        "from tensorflow.keras.optimizers import RMSprop\n",
        "\n",
        "num_steps = 5000\n",
        "batch_size = 64\n",
        "learning_rate = 0.001\n",
        "\n",
        "num_features = X_train.shape[1]\n",
        "w_tf = tf.Variable(np.zeros((num_features,), dtype='float32'), trainable=True)\n",
        "b_tf = tf.Variable(np.array(0., dtype='float32'), trainable=True)\n",
        "w = w_tf.numpy()\n",
        "b = b_tf.numpy()\n",
        "\n",
        "loss_at_step = np.zeros((num_steps,),dtype='float32')\n",
        "\n",
        "optim = RMSprop(lr = learning_rate)\n",
        "\n",
        "\n",
        "indices = np.arange(X_train.shape[0])\n",
        "np.random.shuffle(indices)\n",
        "batch_end = batch_size\n",
        "for step in tqdm(range(num_steps)):\n",
        "    batch_indices = indices[batch_end-batch_size:batch_end]\n",
        "    X = X_train[batch_indices]\n",
        "    Y = Y_train[batch_indices]\n",
        "\n",
        "    loss_at_step[step] = loss(Y_train, predict(w,b,X_train))\n",
        "    A = predict(w,b,X)\n",
        "    dw, db = gradients(X,Y,A)\n",
        "    optim.apply_gradients([(dw,w_tf),(db,b_tf)])\n",
        "    w = w_tf.numpy()\n",
        "    b = b_tf.numpy()\n",
        "\n",
        "    batch_end += batch_size\n",
        "    if batch_end > X_train.shape[0]:\n",
        "        np.random.shuffle(indices)\n",
        "        batch_end = batch_size\n",
        "\n",
        "\n",
        "plt.figure()\n",
        "plt.plot(loss_at_step)\n",
        "plt.xlabel('Training Step')\n",
        "plt.ylabel('Loss')\n",
        "plt.show()"
      ],
      "execution_count": 132,
      "outputs": [
        {
          "output_type": "stream",
          "name": "stderr",
          "text": [
            "/usr/local/lib/python3.7/dist-packages/keras/optimizer_v2/optimizer_v2.py:356: UserWarning: The `lr` argument is deprecated, use `learning_rate` instead.\n",
            "  \"The `lr` argument is deprecated, use `learning_rate` instead.\")\n",
            "100%|██████████| 5000/5000 [00:27<00:00, 182.74it/s]\n"
          ]
        },
        {
          "output_type": "display_data",
          "data": {
            "image/png": "[encoded data removed]",
            "text/plain": [
              "<Figure size 432x288 with 1 Axes>"
            ]
          },
          "metadata": {
            "needs_background": "light"
          }
        }
      ]
    },
    {
      "cell_type": "markdown",
      "metadata": {
        "id": "7JSjHe1UjQAN"
      },
      "source": [
        "## Results"
      ]
    },
    {
      "cell_type": "code",
      "metadata": {
        "colab": {
          "base_uri": "https://localhost:8080/"
        },
        "id": "Dv3L16fijQAN",
        "outputId": "d96f2d2b-7146-430f-d2fb-eb9728e0372f"
      },
      "source": [
        "print(f'Weights: {w}')\n",
        "print(f'Bias: {b}')\n"
      ],
      "execution_count": 134,
      "outputs": [
        {
          "output_type": "stream",
          "name": "stdout",
          "text": [
            "Weights: [-0.03935404 -0.6673208   0.02706496  0.6849011   0.05406864  0.1607932\n",
            " -0.08471413 -0.45301214  0.10347234  0.16733326  1.1085678 ]\n",
            "Bias: 0.900698721408844\n"
          ]
        }
      ]
    },
    {
      "cell_type": "code",
      "metadata": {
        "colab": {
          "base_uri": "https://localhost:8080/"
        },
        "id": "9vzFp96VjQAN",
        "outputId": "7e140bf2-83e1-43a2-cc3f-9f15d52a4f3e"
      },
      "source": [
        "acc_train = accuracy(Y_train, np.round(predict(w,b, X_train)))\n",
        "acc_test = accuracy(Y_test, np.round(predict(w,b, X_test)))\n",
        "\n",
        "print(f'Training accuracy = {acc_train:0.3%}')\n",
        "print(f'Test accuracy = {acc_test:0.3%}')"
      ],
      "execution_count": 133,
      "outputs": [
        {
          "output_type": "stream",
          "name": "stdout",
          "text": [
            "Training accuracy = 75.625%\n",
            "Test accuracy = 74.898%\n"
          ]
        }
      ]
    },
    {
      "cell_type": "markdown",
      "metadata": {
        "id": "rD-1jVbumlTj"
      },
      "source": [
        "# Adam"
      ]
    },
    {
      "cell_type": "code",
      "metadata": {
        "colab": {
          "base_uri": "https://localhost:8080/",
          "height": 352
        },
        "id": "qMplcC_AmlTq",
        "outputId": "affc94d4-4768-43da-84b0-fd7c930dc50c"
      },
      "source": [
        "from tqdm import tqdm\n",
        "import matplotlib.pyplot as plt\n",
        "import tensorflow as tf\n",
        "from tensorflow.keras.optimizers import Adam\n",
        "\n",
        "num_steps = 5000\n",
        "batch_size = 64\n",
        "learning_rate = 0.001\n",
        "\n",
        "num_features = X_train.shape[1]\n",
        "w_tf = tf.Variable(np.zeros((num_features,), dtype='float32'), trainable=True)\n",
        "b_tf = tf.Variable(np.array(0., dtype='float32'), trainable=True)\n",
        "w = w_tf.numpy()\n",
        "b = b_tf.numpy()\n",
        "\n",
        "loss_at_step = np.zeros((num_steps,),dtype='float32')\n",
        "\n",
        "optim = Adam(lr = learning_rate)\n",
        "\n",
        "\n",
        "indices = np.arange(X_train.shape[0])\n",
        "np.random.shuffle(indices)\n",
        "batch_end = batch_size\n",
        "for step in tqdm(range(num_steps)):\n",
        "    batch_indices = indices[batch_end-batch_size:batch_end]\n",
        "    X = X_train[batch_indices]\n",
        "    Y = Y_train[batch_indices]\n",
        "\n",
        "    loss_at_step[step] = loss(Y_train, predict(w,b,X_train))\n",
        "    A = predict(w,b,X)\n",
        "    dw, db = gradients(X,Y,A)\n",
        "    optim.apply_gradients([(dw,w_tf),(db,b_tf)])\n",
        "    w = w_tf.numpy()\n",
        "    b = b_tf.numpy()\n",
        "\n",
        "    batch_end += batch_size\n",
        "    if batch_end > X_train.shape[0]:\n",
        "        np.random.shuffle(indices)\n",
        "        batch_end = batch_size\n",
        "\n",
        "\n",
        "plt.figure()\n",
        "plt.plot(loss_at_step)\n",
        "plt.xlabel('Training Step')\n",
        "plt.ylabel('Loss')\n",
        "plt.show()"
      ],
      "execution_count": 135,
      "outputs": [
        {
          "output_type": "stream",
          "name": "stderr",
          "text": [
            "/usr/local/lib/python3.7/dist-packages/keras/optimizer_v2/optimizer_v2.py:356: UserWarning: The `lr` argument is deprecated, use `learning_rate` instead.\n",
            "  \"The `lr` argument is deprecated, use `learning_rate` instead.\")\n",
            "100%|██████████| 5000/5000 [00:19<00:00, 253.76it/s]\n"
          ]
        },
        {
          "output_type": "display_data",
          "data": {
            "image/png": "[encoded data removed]",
            "text/plain": [
              "<Figure size 432x288 with 1 Axes>"
            ]
          },
          "metadata": {
            "needs_background": "light"
          }
        }
      ]
    },
    {
      "cell_type": "markdown",
      "metadata": {
        "id": "jgtr9YUmmlTr"
      },
      "source": [
        "## Results"
      ]
    },
    {
      "cell_type": "code",
      "metadata": {
        "colab": {
          "base_uri": "https://localhost:8080/"
        },
        "id": "mEsJv80GmlTr",
        "outputId": "268f96df-f622-4c69-ac7e-a627e4393c07"
      },
      "source": [
        "print(f'Weights: {w}')\n",
        "print(f'Bias: {b}')\n"
      ],
      "execution_count": 136,
      "outputs": [
        {
          "output_type": "stream",
          "name": "stdout",
          "text": [
            "Weights: [-0.03232318 -0.65957415  0.02998926  0.69303614  0.05026429  0.14713328\n",
            " -0.08306552 -0.47857937  0.10887027  0.16551839  1.0887885 ]\n",
            "Bias: 0.9017022252082825\n"
          ]
        }
      ]
    },
    {
      "cell_type": "code",
      "metadata": {
        "colab": {
          "base_uri": "https://localhost:8080/"
        },
        "id": "9N3nhX7MmlTr",
        "outputId": "198cac04-d14c-4cd4-85d0-c01538264401"
      },
      "source": [
        "acc_train = accuracy(Y_train, np.round(predict(w,b, X_train)))\n",
        "acc_test = accuracy(Y_test, np.round(predict(w,b, X_test)))\n",
        "\n",
        "print(f'Training accuracy = {acc_train:0.3%}')\n",
        "print(f'Test accuracy = {acc_test:0.3%}')"
      ],
      "execution_count": 137,
      "outputs": [
        {
          "output_type": "stream",
          "name": "stdout",
          "text": [
            "Training accuracy = 75.600%\n",
            "Test accuracy = 74.898%\n"
          ]
        }
      ]
    },
    {
      "cell_type": "code",
      "metadata": {
        "id": "fsD4QIHsjOnb"
      },
      "source": [
        ""
      ],
      "execution_count": null,
      "outputs": []
    }
  ]
}