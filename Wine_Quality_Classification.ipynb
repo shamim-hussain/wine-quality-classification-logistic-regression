{
  "nbformat": 4,
  "nbformat_minor": 0,
  "metadata": {
    "colab": {
      "name": "Wine Quality Classification.ipynb",
      "provenance": [],
      "collapsed_sections": [],
      "authorship_tag": "ABX9TyOfHjaoRZoJJnO/+R3IBxT0",
      "include_colab_link": true
    },
    "kernelspec": {
      "name": "python3",
      "display_name": "Python 3"
    },
    "language_info": {
      "name": "python"
    }
  },
  "cells": [
    {
      "cell_type": "markdown",
      "metadata": {
        "id": "view-in-github",
        "colab_type": "text"
      },
      "source": [
        "<a href=\"https://colab.research.google.com/github/shamim-hussain/wine-quality-classification-logistic-regression/blob/main/Wine_Quality_Classification.ipynb\" target=\"_parent\"><img src=\"https://colab.research.google.com/assets/colab-badge.svg\" alt=\"Open In Colab\"/></a>"
      ]
    },
    {
      "cell_type": "markdown",
      "metadata": {
        "id": "1HYWyvzGy5r0"
      },
      "source": [
        "# Wine Quality Classification\n",
        "We will classifiy wines into either \"good\" or \"bad\" categories based on different chemical properties. It makes sense to do logistic regression for this problem because the features (chemical properties) should have approximately a positive/negative lenear correlation with the quality. The dataset - \n",
        "\n",
        "Dataset Link: https://archive.ics.uci.edu/ml/datasets/wine+quality\n",
        "\n",
        "It is moderate in size, which is ideal for logistic regression, because more complicated models may overfit the data. The quality is given as a rank, although we can turn it into a binary target, i.e., bad/good."
      ]
    },
    {
      "cell_type": "markdown",
      "metadata": {
        "id": "gD6FDIz5zBGI"
      },
      "source": [
        "# Download and Process the Dataset"
      ]
    },
    {
      "cell_type": "markdown",
      "metadata": {
        "id": "gq8y2j1WzITg"
      },
      "source": [
        "## Download\n",
        "We will be using the \"white wine\" dataset."
      ]
    },
    {
      "cell_type": "code",
      "metadata": {
        "id": "IG5AicFZv87m",
        "colab": {
          "base_uri": "https://localhost:8080/"
        },
        "outputId": "9f37a8e6-ac84-4d57-dae5-4a629684ee6a"
      },
      "source": [
        "!wget https://archive.ics.uci.edu/ml/machine-learning-databases/wine-quality/winequality-white.csv"
      ],
      "execution_count": 1,
      "outputs": [
        {
          "output_type": "stream",
          "name": "stdout",
          "text": [
            "--2021-09-10 03:43:31--  https://archive.ics.uci.edu/ml/machine-learning-databases/wine-quality/winequality-white.csv\n",
            "Resolving archive.ics.uci.edu (archive.ics.uci.edu)... 128.195.10.252\n",
            "Connecting to archive.ics.uci.edu (archive.ics.uci.edu)|128.195.10.252|:443... connected.\n",
            "HTTP request sent, awaiting response... 200 OK\n",
            "Length: 264426 (258K) [application/x-httpd-php]\n",
            "Saving to: ‘winequality-white.csv’\n",
            "\n",
            "winequality-white.c 100%[===================>] 258.23K  1.26MB/s    in 0.2s    \n",
            "\n",
            "2021-09-10 03:43:32 (1.26 MB/s) - ‘winequality-white.csv’ saved [264426/264426]\n",
            "\n"
          ]
        }
      ]
    },
    {
      "cell_type": "markdown",
      "metadata": {
        "id": "MnKMH6DtzjLT"
      },
      "source": [
        "## Open dataset"
      ]
    },
    {
      "cell_type": "code",
      "metadata": {
        "colab": {
          "base_uri": "https://localhost:8080/",
          "height": 238
        },
        "id": "ZyR2M3gcypfQ",
        "outputId": "6744b3ff-44a0-4a29-e007-28d8d9f23dc0"
      },
      "source": [
        "import pandas as pd\n",
        "\n",
        "dataset = pd.read_csv('winequality-white.csv', sep=';')\n",
        "dataset.head()"
      ],
      "execution_count": 15,
      "outputs": [
        {
          "output_type": "execute_result",
          "data": {
            "text/html": [
              "<div>\n",
              "<style scoped>\n",
              "    .dataframe tbody tr th:only-of-type {\n",
              "        vertical-align: middle;\n",
              "    }\n",
              "\n",
              "    .dataframe tbody tr th {\n",
              "        vertical-align: top;\n",
              "    }\n",
              "\n",
              "    .dataframe thead th {\n",
              "        text-align: right;\n",
              "    }\n",
              "</style>\n",
              "<table border=\"1\" class=\"dataframe\">\n",
              "  <thead>\n",
              "    <tr style=\"text-align: right;\">\n",
              "      <th></th>\n",
              "      <th>fixed acidity</th>\n",
              "      <th>volatile acidity</th>\n",
              "      <th>citric acid</th>\n",
              "      <th>residual sugar</th>\n",
              "      <th>chlorides</th>\n",
              "      <th>free sulfur dioxide</th>\n",
              "      <th>total sulfur dioxide</th>\n",
              "      <th>density</th>\n",
              "      <th>pH</th>\n",
              "      <th>sulphates</th>\n",
              "      <th>alcohol</th>\n",
              "      <th>quality</th>\n",
              "    </tr>\n",
              "  </thead>\n",
              "  <tbody>\n",
              "    <tr>\n",
              "      <th>0</th>\n",
              "      <td>7.0</td>\n",
              "      <td>0.27</td>\n",
              "      <td>0.36</td>\n",
              "      <td>20.7</td>\n",
              "      <td>0.045</td>\n",
              "      <td>45.0</td>\n",
              "      <td>170.0</td>\n",
              "      <td>1.0010</td>\n",
              "      <td>3.00</td>\n",
              "      <td>0.45</td>\n",
              "      <td>8.8</td>\n",
              "      <td>6</td>\n",
              "    </tr>\n",
              "    <tr>\n",
              "      <th>1</th>\n",
              "      <td>6.3</td>\n",
              "      <td>0.30</td>\n",
              "      <td>0.34</td>\n",
              "      <td>1.6</td>\n",
              "      <td>0.049</td>\n",
              "      <td>14.0</td>\n",
              "      <td>132.0</td>\n",
              "      <td>0.9940</td>\n",
              "      <td>3.30</td>\n",
              "      <td>0.49</td>\n",
              "      <td>9.5</td>\n",
              "      <td>6</td>\n",
              "    </tr>\n",
              "    <tr>\n",
              "      <th>2</th>\n",
              "      <td>8.1</td>\n",
              "      <td>0.28</td>\n",
              "      <td>0.40</td>\n",
              "      <td>6.9</td>\n",
              "      <td>0.050</td>\n",
              "      <td>30.0</td>\n",
              "      <td>97.0</td>\n",
              "      <td>0.9951</td>\n",
              "      <td>3.26</td>\n",
              "      <td>0.44</td>\n",
              "      <td>10.1</td>\n",
              "      <td>6</td>\n",
              "    </tr>\n",
              "    <tr>\n",
              "      <th>3</th>\n",
              "      <td>7.2</td>\n",
              "      <td>0.23</td>\n",
              "      <td>0.32</td>\n",
              "      <td>8.5</td>\n",
              "      <td>0.058</td>\n",
              "      <td>47.0</td>\n",
              "      <td>186.0</td>\n",
              "      <td>0.9956</td>\n",
              "      <td>3.19</td>\n",
              "      <td>0.40</td>\n",
              "      <td>9.9</td>\n",
              "      <td>6</td>\n",
              "    </tr>\n",
              "    <tr>\n",
              "      <th>4</th>\n",
              "      <td>7.2</td>\n",
              "      <td>0.23</td>\n",
              "      <td>0.32</td>\n",
              "      <td>8.5</td>\n",
              "      <td>0.058</td>\n",
              "      <td>47.0</td>\n",
              "      <td>186.0</td>\n",
              "      <td>0.9956</td>\n",
              "      <td>3.19</td>\n",
              "      <td>0.40</td>\n",
              "      <td>9.9</td>\n",
              "      <td>6</td>\n",
              "    </tr>\n",
              "  </tbody>\n",
              "</table>\n",
              "</div>"
            ],
            "text/plain": [
              "   fixed acidity  volatile acidity  citric acid  ...  sulphates  alcohol  quality\n",
              "0            7.0              0.27         0.36  ...       0.45      8.8        6\n",
              "1            6.3              0.30         0.34  ...       0.49      9.5        6\n",
              "2            8.1              0.28         0.40  ...       0.44     10.1        6\n",
              "3            7.2              0.23         0.32  ...       0.40      9.9        6\n",
              "4            7.2              0.23         0.32  ...       0.40      9.9        6\n",
              "\n",
              "[5 rows x 12 columns]"
            ]
          },
          "metadata": {},
          "execution_count": 15
        }
      ]
    },
    {
      "cell_type": "markdown",
      "metadata": {
        "id": "bwQmW1m024so"
      },
      "source": [
        "Let's check for missing data."
      ]
    },
    {
      "cell_type": "code",
      "metadata": {
        "colab": {
          "base_uri": "https://localhost:8080/"
        },
        "id": "EdpWE5so2q0Z",
        "outputId": "e7860979-7e58-40f0-acbc-0cd7e38461d1"
      },
      "source": [
        "dataset.info()"
      ],
      "execution_count": 16,
      "outputs": [
        {
          "output_type": "stream",
          "name": "stdout",
          "text": [
            "<class 'pandas.core.frame.DataFrame'>\n",
            "RangeIndex: 4898 entries, 0 to 4897\n",
            "Data columns (total 12 columns):\n",
            " #   Column                Non-Null Count  Dtype  \n",
            "---  ------                --------------  -----  \n",
            " 0   fixed acidity         4898 non-null   float64\n",
            " 1   volatile acidity      4898 non-null   float64\n",
            " 2   citric acid           4898 non-null   float64\n",
            " 3   residual sugar        4898 non-null   float64\n",
            " 4   chlorides             4898 non-null   float64\n",
            " 5   free sulfur dioxide   4898 non-null   float64\n",
            " 6   total sulfur dioxide  4898 non-null   float64\n",
            " 7   density               4898 non-null   float64\n",
            " 8   pH                    4898 non-null   float64\n",
            " 9   sulphates             4898 non-null   float64\n",
            " 10  alcohol               4898 non-null   float64\n",
            " 11  quality               4898 non-null   int64  \n",
            "dtypes: float64(11), int64(1)\n",
            "memory usage: 459.3 KB\n"
          ]
        }
      ]
    },
    {
      "cell_type": "markdown",
      "metadata": {
        "id": "LVMzalBv2hyk"
      },
      "source": [
        "No missing data. We also wanna know the min, max, std of the columns"
      ]
    },
    {
      "cell_type": "code",
      "metadata": {
        "colab": {
          "base_uri": "https://localhost:8080/",
          "height": 331
        },
        "id": "iSx2_t7a3OPk",
        "outputId": "06667519-0690-49c6-fb84-b84aea30ba55"
      },
      "source": [
        "dataset.describe()"
      ],
      "execution_count": 17,
      "outputs": [
        {
          "output_type": "execute_result",
          "data": {
            "text/html": [
              "<div>\n",
              "<style scoped>\n",
              "    .dataframe tbody tr th:only-of-type {\n",
              "        vertical-align: middle;\n",
              "    }\n",
              "\n",
              "    .dataframe tbody tr th {\n",
              "        vertical-align: top;\n",
              "    }\n",
              "\n",
              "    .dataframe thead th {\n",
              "        text-align: right;\n",
              "    }\n",
              "</style>\n",
              "<table border=\"1\" class=\"dataframe\">\n",
              "  <thead>\n",
              "    <tr style=\"text-align: right;\">\n",
              "      <th></th>\n",
              "      <th>fixed acidity</th>\n",
              "      <th>volatile acidity</th>\n",
              "      <th>citric acid</th>\n",
              "      <th>residual sugar</th>\n",
              "      <th>chlorides</th>\n",
              "      <th>free sulfur dioxide</th>\n",
              "      <th>total sulfur dioxide</th>\n",
              "      <th>density</th>\n",
              "      <th>pH</th>\n",
              "      <th>sulphates</th>\n",
              "      <th>alcohol</th>\n",
              "      <th>quality</th>\n",
              "    </tr>\n",
              "  </thead>\n",
              "  <tbody>\n",
              "    <tr>\n",
              "      <th>count</th>\n",
              "      <td>4898.000000</td>\n",
              "      <td>4898.000000</td>\n",
              "      <td>4898.000000</td>\n",
              "      <td>4898.000000</td>\n",
              "      <td>4898.000000</td>\n",
              "      <td>4898.000000</td>\n",
              "      <td>4898.000000</td>\n",
              "      <td>4898.000000</td>\n",
              "      <td>4898.000000</td>\n",
              "      <td>4898.000000</td>\n",
              "      <td>4898.000000</td>\n",
              "      <td>4898.000000</td>\n",
              "    </tr>\n",
              "    <tr>\n",
              "      <th>mean</th>\n",
              "      <td>6.854788</td>\n",
              "      <td>0.278241</td>\n",
              "      <td>0.334192</td>\n",
              "      <td>6.391415</td>\n",
              "      <td>0.045772</td>\n",
              "      <td>35.308085</td>\n",
              "      <td>138.360657</td>\n",
              "      <td>0.994027</td>\n",
              "      <td>3.188267</td>\n",
              "      <td>0.489847</td>\n",
              "      <td>10.514267</td>\n",
              "      <td>5.877909</td>\n",
              "    </tr>\n",
              "    <tr>\n",
              "      <th>std</th>\n",
              "      <td>0.843868</td>\n",
              "      <td>0.100795</td>\n",
              "      <td>0.121020</td>\n",
              "      <td>5.072058</td>\n",
              "      <td>0.021848</td>\n",
              "      <td>17.007137</td>\n",
              "      <td>42.498065</td>\n",
              "      <td>0.002991</td>\n",
              "      <td>0.151001</td>\n",
              "      <td>0.114126</td>\n",
              "      <td>1.230621</td>\n",
              "      <td>0.885639</td>\n",
              "    </tr>\n",
              "    <tr>\n",
              "      <th>min</th>\n",
              "      <td>3.800000</td>\n",
              "      <td>0.080000</td>\n",
              "      <td>0.000000</td>\n",
              "      <td>0.600000</td>\n",
              "      <td>0.009000</td>\n",
              "      <td>2.000000</td>\n",
              "      <td>9.000000</td>\n",
              "      <td>0.987110</td>\n",
              "      <td>2.720000</td>\n",
              "      <td>0.220000</td>\n",
              "      <td>8.000000</td>\n",
              "      <td>3.000000</td>\n",
              "    </tr>\n",
              "    <tr>\n",
              "      <th>25%</th>\n",
              "      <td>6.300000</td>\n",
              "      <td>0.210000</td>\n",
              "      <td>0.270000</td>\n",
              "      <td>1.700000</td>\n",
              "      <td>0.036000</td>\n",
              "      <td>23.000000</td>\n",
              "      <td>108.000000</td>\n",
              "      <td>0.991723</td>\n",
              "      <td>3.090000</td>\n",
              "      <td>0.410000</td>\n",
              "      <td>9.500000</td>\n",
              "      <td>5.000000</td>\n",
              "    </tr>\n",
              "    <tr>\n",
              "      <th>50%</th>\n",
              "      <td>6.800000</td>\n",
              "      <td>0.260000</td>\n",
              "      <td>0.320000</td>\n",
              "      <td>5.200000</td>\n",
              "      <td>0.043000</td>\n",
              "      <td>34.000000</td>\n",
              "      <td>134.000000</td>\n",
              "      <td>0.993740</td>\n",
              "      <td>3.180000</td>\n",
              "      <td>0.470000</td>\n",
              "      <td>10.400000</td>\n",
              "      <td>6.000000</td>\n",
              "    </tr>\n",
              "    <tr>\n",
              "      <th>75%</th>\n",
              "      <td>7.300000</td>\n",
              "      <td>0.320000</td>\n",
              "      <td>0.390000</td>\n",
              "      <td>9.900000</td>\n",
              "      <td>0.050000</td>\n",
              "      <td>46.000000</td>\n",
              "      <td>167.000000</td>\n",
              "      <td>0.996100</td>\n",
              "      <td>3.280000</td>\n",
              "      <td>0.550000</td>\n",
              "      <td>11.400000</td>\n",
              "      <td>6.000000</td>\n",
              "    </tr>\n",
              "    <tr>\n",
              "      <th>max</th>\n",
              "      <td>14.200000</td>\n",
              "      <td>1.100000</td>\n",
              "      <td>1.660000</td>\n",
              "      <td>65.800000</td>\n",
              "      <td>0.346000</td>\n",
              "      <td>289.000000</td>\n",
              "      <td>440.000000</td>\n",
              "      <td>1.038980</td>\n",
              "      <td>3.820000</td>\n",
              "      <td>1.080000</td>\n",
              "      <td>14.200000</td>\n",
              "      <td>9.000000</td>\n",
              "    </tr>\n",
              "  </tbody>\n",
              "</table>\n",
              "</div>"
            ],
            "text/plain": [
              "       fixed acidity  volatile acidity  ...      alcohol      quality\n",
              "count    4898.000000       4898.000000  ...  4898.000000  4898.000000\n",
              "mean        6.854788          0.278241  ...    10.514267     5.877909\n",
              "std         0.843868          0.100795  ...     1.230621     0.885639\n",
              "min         3.800000          0.080000  ...     8.000000     3.000000\n",
              "25%         6.300000          0.210000  ...     9.500000     5.000000\n",
              "50%         6.800000          0.260000  ...    10.400000     6.000000\n",
              "75%         7.300000          0.320000  ...    11.400000     6.000000\n",
              "max        14.200000          1.100000  ...    14.200000     9.000000\n",
              "\n",
              "[8 rows x 12 columns]"
            ]
          },
          "metadata": {},
          "execution_count": 17
        }
      ]
    },
    {
      "cell_type": "markdown",
      "metadata": {
        "id": "EeccF1b25wTI"
      },
      "source": [
        "# Splitting the dataset into train and test."
      ]
    },
    {
      "cell_type": "markdown",
      "metadata": {
        "id": "aB4C7Rer7Kz0"
      },
      "source": [
        "We will do a 80/20 split for train and test"
      ]
    },
    {
      "cell_type": "code",
      "metadata": {
        "id": "W-t5ti8K5vkv"
      },
      "source": [
        "# Shuffle the dataset\n",
        "dataset = dataset.sample(frac=1).reset_index(drop=True)\n",
        "\n",
        "trainset_len = int(len(dataset)*.8)\n",
        "trainset = dataset.iloc[:trainset_len].reset_index(drop=True)\n",
        "testset = dataset.iloc[trainset_len:].reset_index(drop=True)"
      ],
      "execution_count": 34,
      "outputs": []
    },
    {
      "cell_type": "markdown",
      "metadata": {
        "id": "Jl2wlzI31zF0"
      },
      "source": [
        "# Separate features and target and binarize target\n",
        "We will predict the quality, but since we wish to explore a binary classification problem. The 50-percentile is 6 so we will assign qualities as such -\n",
        "\n",
        "**Bad:0** -> When quality between 0-5\n",
        "\n",
        "**Good:1** -> When quality between 6-9\n",
        "\n",
        "Also convert everything to float while at it."
      ]
    },
    {
      "cell_type": "code",
      "metadata": {
        "id": "-DF_Fdg80TkE"
      },
      "source": [
        "train_features = trainset.drop('quality', axis=1).astype('float32')\n",
        "train_targets = (trainset['quality'] > 5).astype('float32')\n",
        "\n",
        "test_features = testset.drop('quality', axis=1).astype('float32')\n",
        "test_targets = (testset['quality'] > 5).astype('float32')"
      ],
      "execution_count": 36,
      "outputs": []
    },
    {
      "cell_type": "markdown",
      "metadata": {
        "id": "OZmTAarw5nKc"
      },
      "source": [
        "# Standardizing input features"
      ]
    },
    {
      "cell_type": "markdown",
      "metadata": {
        "id": "vPPEV76t8IKA"
      },
      "source": [
        "Let's have a look at the distributions of the training features."
      ]
    },
    {
      "cell_type": "code",
      "metadata": {
        "colab": {
          "base_uri": "https://localhost:8080/",
          "height": 716
        },
        "id": "42ifc1oV8Hpw",
        "outputId": "6946faf0-2951-4e2f-ab5d-29a22206ce75"
      },
      "source": [
        "plots = train_features.hist(figsize=[12,12])"
      ],
      "execution_count": 41,
      "outputs": [
        {
          "output_type": "display_data",
          "data": {
            "image/png": "[encoded data removed]",
            "text/plain": [
              "<Figure size 864x864 with 12 Axes>"
            ]
          },
          "metadata": {
            "needs_background": "light"
          }
        }
      ]
    },
    {
      "cell_type": "markdown",
      "metadata": {
        "id": "PRqBUEgB8xnj"
      },
      "source": [
        "Very different distributions. So we standardize them before training."
      ]
    },
    {
      "cell_type": "code",
      "metadata": {
        "id": "CwRO_qqx8vql"
      },
      "source": [
        "feat_mean = train_features.mean()\n",
        "feat_std = train_features.std()\n",
        "\n",
        "train_features = (train_features - feat_mean)/feat_std\n",
        "test_features = (test_features - feat_mean)/feat_std\n"
      ],
      "execution_count": 42,
      "outputs": []
    },
    {
      "cell_type": "markdown",
      "metadata": {
        "id": "LpkiK8C29f-q"
      },
      "source": [
        "Plot them again"
      ]
    },
    {
      "cell_type": "code",
      "metadata": {
        "colab": {
          "base_uri": "https://localhost:8080/",
          "height": 716
        },
        "id": "Uia4-tDh9i5K",
        "outputId": "e3d3729b-4502-4937-99ef-fb29e885e1b7"
      },
      "source": [
        "plots = train_features.hist(figsize=[12,12])"
      ],
      "execution_count": 43,
      "outputs": [
        {
          "output_type": "display_data",
          "data": {
            "image/png": "[encoded data removed]",
            "text/plain": [
              "<Figure size 864x864 with 12 Axes>"
            ]
          },
          "metadata": {
            "needs_background": "light"
          }
        }
      ]
    },
    {
      "cell_type": "markdown",
      "metadata": {
        "id": "_LMl4FmQ9wfh"
      },
      "source": [
        "Looks better. Now to convert them to numpy arrays."
      ]
    },
    {
      "cell_type": "code",
      "metadata": {
        "id": "d7zNdGeB968A"
      },
      "source": [
        "X_train = train_features.values\n",
        "Y_train = train_targets.values\n",
        "\n",
        "X_test = test_features.values\n",
        "Y_test = test_targets.values"
      ],
      "execution_count": 45,
      "outputs": []
    },
    {
      "cell_type": "markdown",
      "metadata": {
        "id": "ENli_W12-Obe"
      },
      "source": [
        "# Logistic Regression"
      ]
    },
    {
      "cell_type": "markdown",
      "metadata": {
        "id": "A_YanJphADnE"
      },
      "source": [
        "Let us first write a function to calculate the loss and also the gradient of the loss."
      ]
    },
    {
      "cell_type": "code",
      "metadata": {
        "id": "Y08kt4FhACEe"
      },
      "source": [
        "import numpy as np\n",
        "\n",
        "def sigmoid(x):\n",
        "    return 1/(1+np.exp(-x))\n",
        "\n",
        "def predict(w,b,X):\n",
        "    return sigmoid(np.dot(X,w) + b)\n",
        "\n",
        "# Cost function\n",
        "def loss(Y,A,eps=1e-7):\n",
        "    A_cliped = np.clip(A, eps, 1-eps)\n",
        "    return -np.mean(Y * np.log(A) + (1-Y) * (np.log(1-A)))\n",
        "\n",
        "def gradients(X,Y,A):\n",
        "    dw = np.dot(X.T, A-Y)/X.shape[0]\n",
        "    db = np.mean(A-Y)\n",
        "    return dw, db\n",
        "\n",
        "def accuracy(Y_true, Y_pred):\n",
        "    return np.mean((Y_true==Y_pred).astype('float32'))\n"
      ],
      "execution_count": 85,
      "outputs": []
    },
    {
      "cell_type": "markdown",
      "metadata": {
        "id": "EDA9cQ1ceBJr"
      },
      "source": [
        "# Batch Gradient Descent"
      ]
    },
    {
      "cell_type": "code",
      "metadata": {
        "colab": {
          "base_uri": "https://localhost:8080/",
          "height": 349
        },
        "id": "eamf7K2S-N_O",
        "outputId": "b3b53478-3dfd-4384-b5c5-ea75049b4842"
      },
      "source": [
        "from tqdm import tqdm\n",
        "import matplotlib.pyplot as plt\n",
        "\n",
        "\n",
        "num_steps = 5000\n",
        "learning_rate = 0.01\n",
        "\n",
        "num_features = X_train.shape[1]\n",
        "w = np.zeros((num_features,), dtype='float32')\n",
        "b = np.array(0., dtype='float32')\n",
        "\n",
        "loss_at_step_batch = np.zeros((num_steps,),dtype='float32')\n",
        "X = X_train\n",
        "Y = Y_train\n",
        "for step in tqdm(range(num_steps)):\n",
        "    A = predict(w,b,X)\n",
        "    loss_at_step_batch[step] = loss(Y, A)\n",
        "    dw, db = gradients(X,Y,A)\n",
        "    w[()] = w - learning_rate*dw\n",
        "    b = b - learning_rate*db\n",
        "\n",
        "print(f'Weights: {w}')\n",
        "print(f'Bias: {b}')\n",
        "\n",
        "plt.figure()\n",
        "plt.plot(loss_at_step_batch)\n",
        "plt.xlabel('Training Step')\n",
        "plt.ylabel('Loss')\n",
        "plt.show()"
      ],
      "execution_count": 146,
      "outputs": [
        {
          "output_type": "stream",
          "name": "stderr",
          "text": [
            "100%|██████████| 5000/5000 [00:01<00:00, 3046.81it/s]\n"
          ]
        },
        {
          "output_type": "stream",
          "name": "stdout",
          "text": [
            "Weights: [-0.06174603 -0.6427972   0.02835472  0.5877932   0.02887898  0.16200893\n",
            " -0.10275589 -0.35207963  0.0880068   0.15806429  1.0985469 ]\n",
            "Bias: 0.888016828019169\n"
          ]
        },
        {
          "output_type": "display_data",
          "data": {
            "image/png": "[encoded data removed]",
            "text/plain": [
              "<Figure size 432x288 with 1 Axes>"
            ]
          },
          "metadata": {
            "needs_background": "light"
          }
        }
      ]
    },
    {
      "cell_type": "markdown",
      "metadata": {
        "id": "70uwBYQsfZ9I"
      },
      "source": [
        "## Results"
      ]
    },
    {
      "cell_type": "code",
      "metadata": {
        "colab": {
          "base_uri": "https://localhost:8080/"
        },
        "id": "ZwbNwR_Ie-yT",
        "outputId": "640bf630-1a31-4bbc-ac8b-7514a2fabf42"
      },
      "source": [
        "pred_train = predict(w,b, X_train)\n",
        "pred_test = predict(w,b, X_test)\n",
        "\n",
        "loss_train_batch = loss(Y_train, pred_train)\n",
        "loss_test_batch = loss(Y_test, pred_test)\n",
        "acc_train_batch = accuracy(Y_train, np.round(pred_train))\n",
        "acc_test_batch = accuracy(Y_test, np.round(pred_test))\n",
        "\n",
        "print(f'Training loss = {loss_train_batch:0.4f}')\n",
        "print(f'Test loss = {loss_test_batch:0.4f}')\n",
        "print()\n",
        "print(f'Training accuracy = {acc_train_batch:0.3%}')\n",
        "print(f'Test accuracy = {acc_test_batch:0.3%}')"
      ],
      "execution_count": 147,
      "outputs": [
        {
          "output_type": "stream",
          "name": "stdout",
          "text": [
            "Training loss = 0.5027\n",
            "Test loss = 0.5105\n",
            "\n",
            "Training accuracy = 75.523%\n",
            "Test accuracy = 75.000%\n"
          ]
        }
      ]
    },
    {
      "cell_type": "markdown",
      "metadata": {
        "id": "O7Og_TDsg-GN"
      },
      "source": [
        "# Mini-batch Gradient Descent"
      ]
    },
    {
      "cell_type": "code",
      "metadata": {
        "colab": {
          "base_uri": "https://localhost:8080/",
          "height": 349
        },
        "id": "jvNhvqTdg-GT",
        "outputId": "7c7fbcc9-c098-4138-f683-0d200f1ba899"
      },
      "source": [
        "from tqdm import tqdm\n",
        "import matplotlib.pyplot as plt\n",
        "\n",
        "\n",
        "num_steps = 5000\n",
        "batch_size = 64\n",
        "learning_rate = 0.01\n",
        "\n",
        "num_features = X_train.shape[1]\n",
        "w = np.zeros((num_features,), dtype='float32')\n",
        "b = np.array(0., dtype='float32')\n",
        "\n",
        "loss_at_step_minibatch = np.zeros((num_steps,),dtype='float32')\n",
        "\n",
        "\n",
        "indices = np.arange(X_train.shape[0])\n",
        "np.random.shuffle(indices)\n",
        "batch_end = batch_size\n",
        "for step in tqdm(range(num_steps)):\n",
        "    batch_indices = indices[batch_end-batch_size:batch_end]\n",
        "    X = X_train[batch_indices]\n",
        "    Y = Y_train[batch_indices]\n",
        "\n",
        "    loss_at_step_minibatch[step] = loss(Y_train, predict(w,b,X_train))\n",
        "    A = predict(w,b,X)\n",
        "    dw, db = gradients(X,Y,A)\n",
        "    w[()] = w - learning_rate*dw\n",
        "    b = b - learning_rate*db\n",
        "\n",
        "    batch_end += batch_size\n",
        "    if batch_end > X_train.shape[0]:\n",
        "        np.random.shuffle(indices)\n",
        "        batch_end = batch_size\n",
        "\n",
        "\n",
        "print(f'Weights: {w}')\n",
        "print(f'Bias: {b}')\n",
        "\n",
        "plt.figure()\n",
        "plt.plot(loss_at_step_minibatch)\n",
        "plt.xlabel('Training Step')\n",
        "plt.ylabel('Loss')\n",
        "plt.show()"
      ],
      "execution_count": 148,
      "outputs": [
        {
          "output_type": "stream",
          "name": "stderr",
          "text": [
            "100%|██████████| 5000/5000 [00:01<00:00, 2902.70it/s]\n"
          ]
        },
        {
          "output_type": "stream",
          "name": "stdout",
          "text": [
            "Weights: [-0.06247187 -0.64415544  0.02774066  0.5876234   0.02907478  0.16219005\n",
            " -0.10280962 -0.35190463  0.08869807  0.15853503  1.0993003 ]\n",
            "Bias: 0.8868606121093053\n"
          ]
        },
        {
          "output_type": "display_data",
          "data": {
            "image/png": "[encoded data removed]",
            "text/plain": [
              "<Figure size 432x288 with 1 Axes>"
            ]
          },
          "metadata": {
            "needs_background": "light"
          }
        }
      ]
    },
    {
      "cell_type": "markdown",
      "metadata": {
        "id": "4ESxB3N8g-GU"
      },
      "source": [
        "## Results"
      ]
    },
    {
      "cell_type": "code",
      "metadata": {
        "colab": {
          "base_uri": "https://localhost:8080/"
        },
        "id": "oWkzQVHSg-GU",
        "outputId": "851bb58a-13d8-4f09-ad5c-6b4ce098cf17"
      },
      "source": [
        "pred_train = predict(w,b, X_train)\n",
        "pred_test = predict(w,b, X_test)\n",
        "\n",
        "loss_train_minibatch = loss(Y_train, pred_train)\n",
        "loss_test_minibatch = loss(Y_test, pred_test)\n",
        "acc_train_minibatch = accuracy(Y_train, np.round(pred_train))\n",
        "acc_test_minibatch = accuracy(Y_test, np.round(pred_test))\n",
        "\n",
        "print(f'Training loss = {loss_train_minibatch:0.4f}')\n",
        "print(f'Test loss = {loss_test_minibatch:0.4f}')\n",
        "print()\n",
        "print(f'Training accuracy = {acc_train_minibatch:0.3%}')\n",
        "print(f'Test accuracy = {acc_test_minibatch:0.3%}')"
      ],
      "execution_count": 149,
      "outputs": [
        {
          "output_type": "stream",
          "name": "stdout",
          "text": [
            "Training loss = 0.5027\n",
            "Test loss = 0.5105\n",
            "\n",
            "Training accuracy = 75.549%\n",
            "Test accuracy = 75.000%\n"
          ]
        }
      ]
    },
    {
      "cell_type": "markdown",
      "metadata": {
        "id": "ki9Y3wW5jQAM"
      },
      "source": [
        "# RMSprop"
      ]
    },
    {
      "cell_type": "code",
      "metadata": {
        "colab": {
          "base_uri": "https://localhost:8080/",
          "height": 349
        },
        "id": "q5MlML8ejQAM",
        "outputId": "e31b331a-6b25-44b5-f929-e2ac80615d34"
      },
      "source": [
        "from tqdm import tqdm\n",
        "import matplotlib.pyplot as plt\n",
        "import tensorflow as tf\n",
        "from tensorflow.keras.optimizers import RMSprop\n",
        "\n",
        "num_steps = 5000\n",
        "batch_size = 64\n",
        "learning_rate = 0.001\n",
        "rmsprop_rho = 0.9\n",
        "rmsprop_epsilon = 1e-7\n",
        "\n",
        "num_features = X_train.shape[1]\n",
        "w_tf = tf.Variable(np.zeros((num_features,), dtype='float32'), trainable=True)\n",
        "b_tf = tf.Variable(np.array(0., dtype='float32'), trainable=True)\n",
        "w = w_tf.numpy()\n",
        "b = b_tf.numpy()\n",
        "\n",
        "loss_at_step_rmsprop = np.zeros((num_steps,),dtype='float32')\n",
        "\n",
        "optim = RMSprop(learning_rate = learning_rate,\n",
        "                rho = rmsprop_rho,\n",
        "                epsilon = rmsprop_epsilon)\n",
        "\n",
        "\n",
        "indices = np.arange(X_train.shape[0])\n",
        "np.random.shuffle(indices)\n",
        "batch_end = batch_size\n",
        "for step in tqdm(range(num_steps)):\n",
        "    batch_indices = indices[batch_end-batch_size:batch_end]\n",
        "    X = X_train[batch_indices]\n",
        "    Y = Y_train[batch_indices]\n",
        "\n",
        "    loss_at_step_rmsprop[step] = loss(Y_train, predict(w,b,X_train))\n",
        "    A = predict(w,b,X)\n",
        "    dw, db = gradients(X,Y,A)\n",
        "    optim.apply_gradients([(dw,w_tf),(db,b_tf)])\n",
        "    w = w_tf.numpy()\n",
        "    b = b_tf.numpy()\n",
        "\n",
        "    batch_end += batch_size\n",
        "    if batch_end > X_train.shape[0]:\n",
        "        np.random.shuffle(indices)\n",
        "        batch_end = batch_size\n",
        "\n",
        "\n",
        "print(f'Weights: {w}')\n",
        "print(f'Bias: {b}')\n",
        "\n",
        "\n",
        "plt.figure()\n",
        "plt.plot(loss_at_step_rmsprop)\n",
        "plt.xlabel('Training Step')\n",
        "plt.ylabel('Loss')\n",
        "plt.show()"
      ],
      "execution_count": 152,
      "outputs": [
        {
          "output_type": "stream",
          "name": "stderr",
          "text": [
            "100%|██████████| 5000/5000 [00:28<00:00, 172.72it/s]\n"
          ]
        },
        {
          "output_type": "stream",
          "name": "stdout",
          "text": [
            "Weights: [-0.04141116 -0.6657034   0.02443708  0.6760607   0.05160675  0.16173674\n",
            " -0.08567817 -0.44716737  0.10856364  0.16805725  1.1132402 ]\n",
            "Bias: 0.9033374190330505\n"
          ]
        },
        {
          "output_type": "display_data",
          "data": {
            "image/png": "[encoded data removed]",
            "text/plain": [
              "<Figure size 432x288 with 1 Axes>"
            ]
          },
          "metadata": {
            "needs_background": "light"
          }
        }
      ]
    },
    {
      "cell_type": "markdown",
      "metadata": {
        "id": "7JSjHe1UjQAN"
      },
      "source": [
        "## Results"
      ]
    },
    {
      "cell_type": "code",
      "metadata": {
        "colab": {
          "base_uri": "https://localhost:8080/"
        },
        "id": "9vzFp96VjQAN",
        "outputId": "3d396eb0-29de-4bfd-95a0-b558cfdee222"
      },
      "source": [
        "pred_train = predict(w,b, X_train)\n",
        "pred_test = predict(w,b, X_test)\n",
        "\n",
        "loss_train_rmsprop = loss(Y_train, pred_train)\n",
        "loss_test_rmsprop = loss(Y_test, pred_test)\n",
        "acc_train_rmsprop = accuracy(Y_train, np.round(pred_train))\n",
        "acc_test_rmsprop = accuracy(Y_test, np.round(pred_test))\n",
        "\n",
        "print(f'Training loss = {loss_train_rmsprop:0.4f}')\n",
        "print(f'Test loss = {loss_test_rmsprop:0.4f}')\n",
        "print()\n",
        "print(f'Training accuracy = {acc_train_rmsprop:0.3%}')\n",
        "print(f'Test accuracy = {acc_test_rmsprop:0.3%}')"
      ],
      "execution_count": 153,
      "outputs": [
        {
          "output_type": "stream",
          "name": "stdout",
          "text": [
            "Training loss = 0.5023\n",
            "Test loss = 0.5114\n",
            "\n",
            "Training accuracy = 75.625%\n",
            "Test accuracy = 75.306%\n"
          ]
        }
      ]
    },
    {
      "cell_type": "markdown",
      "metadata": {
        "id": "rD-1jVbumlTj"
      },
      "source": [
        "# Adam"
      ]
    },
    {
      "cell_type": "code",
      "metadata": {
        "colab": {
          "base_uri": "https://localhost:8080/",
          "height": 349
        },
        "id": "qMplcC_AmlTq",
        "outputId": "6362c14e-dc45-46bb-a796-10b4c16fe5b2"
      },
      "source": [
        "from tqdm import tqdm\n",
        "import matplotlib.pyplot as plt\n",
        "import tensorflow as tf\n",
        "from tensorflow.keras.optimizers import Adam\n",
        "\n",
        "num_steps = 5000\n",
        "batch_size = 64\n",
        "learning_rate = 0.001\n",
        "adam_beta1 = 0.9\n",
        "adam_beta2 = 0.999\n",
        "adam_epsilon = 1e-7\n",
        "\n",
        "num_features = X_train.shape[1]\n",
        "w_tf = tf.Variable(np.zeros((num_features,), dtype='float32'), trainable=True)\n",
        "b_tf = tf.Variable(np.array(0., dtype='float32'), trainable=True)\n",
        "w = w_tf.numpy()\n",
        "b = b_tf.numpy()\n",
        "\n",
        "loss_at_step_adam = np.zeros((num_steps,),dtype='float32')\n",
        "\n",
        "optim = Adam(learning_rate = learning_rate,\n",
        "             beta_1 = adam_beta1,\n",
        "             beta_2 = adam_beta2,\n",
        "             epsilon = adam_epsilon)\n",
        "\n",
        "\n",
        "indices = np.arange(X_train.shape[0])\n",
        "np.random.shuffle(indices)\n",
        "batch_end = batch_size\n",
        "for step in tqdm(range(num_steps)):\n",
        "    batch_indices = indices[batch_end-batch_size:batch_end]\n",
        "    X = X_train[batch_indices]\n",
        "    Y = Y_train[batch_indices]\n",
        "\n",
        "    loss_at_step_adam[step] = loss(Y_train, predict(w,b,X_train))\n",
        "    A = predict(w,b,X)\n",
        "    dw, db = gradients(X,Y,A)\n",
        "    optim.apply_gradients([(dw,w_tf),(db,b_tf)])\n",
        "    w = w_tf.numpy()\n",
        "    b = b_tf.numpy()\n",
        "\n",
        "    batch_end += batch_size\n",
        "    if batch_end > X_train.shape[0]:\n",
        "        np.random.shuffle(indices)\n",
        "        batch_end = batch_size\n",
        "\n",
        "print(f'Weights: {w}')\n",
        "print(f'Bias: {b}')\n",
        "\n",
        "plt.figure()\n",
        "plt.plot(loss_at_step_adam)\n",
        "plt.xlabel('Training Step')\n",
        "plt.ylabel('Loss')\n",
        "plt.show()"
      ],
      "execution_count": 158,
      "outputs": [
        {
          "output_type": "stream",
          "name": "stderr",
          "text": [
            "100%|██████████| 5000/5000 [00:19<00:00, 258.58it/s]\n"
          ]
        },
        {
          "output_type": "stream",
          "name": "stdout",
          "text": [
            "Weights: [-0.03438729 -0.6609281   0.02461974  0.70140624  0.04605846  0.14744464\n",
            " -0.08359383 -0.4875627   0.11747873  0.1675234   1.084534  ]\n",
            "Bias: 0.8998722434043884\n"
          ]
        },
        {
          "output_type": "display_data",
          "data": {
            "image/png": "[encoded data removed]",
            "text/plain": [
              "<Figure size 432x288 with 1 Axes>"
            ]
          },
          "metadata": {
            "needs_background": "light"
          }
        }
      ]
    },
    {
      "cell_type": "markdown",
      "metadata": {
        "id": "jgtr9YUmmlTr"
      },
      "source": [
        "## Results"
      ]
    },
    {
      "cell_type": "code",
      "metadata": {
        "colab": {
          "base_uri": "https://localhost:8080/"
        },
        "id": "9N3nhX7MmlTr",
        "outputId": "dbca500e-e43b-4507-a1e4-c51f0ae16311"
      },
      "source": [
        "pred_train = predict(w,b, X_train)\n",
        "pred_test = predict(w,b, X_test)\n",
        "\n",
        "loss_train_adam = loss(Y_train, pred_train)\n",
        "loss_test_adam = loss(Y_test, pred_test)\n",
        "acc_train_adam = accuracy(Y_train, np.round(pred_train))\n",
        "acc_test_adam = accuracy(Y_test, np.round(pred_test))\n",
        "\n",
        "print(f'Training loss = {loss_train_adam:0.4f}')\n",
        "print(f'Test loss = {loss_test_adam:0.4f}')\n",
        "print()\n",
        "print(f'Training accuracy = {acc_train_adam:0.3%}')\n",
        "print(f'Test accuracy = {acc_test_adam:0.3%}')"
      ],
      "execution_count": 157,
      "outputs": [
        {
          "output_type": "stream",
          "name": "stdout",
          "text": [
            "Training loss = 0.5022\n",
            "Test loss = 0.5118\n",
            "\n",
            "Training accuracy = 75.421%\n",
            "Test accuracy = 74.490%\n"
          ]
        }
      ]
    },
    {
      "cell_type": "markdown",
      "metadata": {
        "id": "DlfjmLKexVk1"
      },
      "source": [
        "# Comparisons"
      ]
    },
    {
      "cell_type": "markdown",
      "metadata": {
        "id": "z3L6hIYfyWhI"
      },
      "source": [
        "## Analysis of convergence"
      ]
    },
    {
      "cell_type": "code",
      "metadata": {
        "colab": {
          "base_uri": "https://localhost:8080/",
          "height": 388
        },
        "id": "fsD4QIHsjOnb",
        "outputId": "40d4be5b-06bd-4aad-dda0-cc3224e44800"
      },
      "source": [
        "plt.figure(figsize=[12,6])\n",
        "plt.plot(loss_at_step_batch, label='Batch')\n",
        "plt.plot(loss_at_step_minibatch, label='Mini-batch')\n",
        "plt.plot(loss_at_step_rmsprop, label='RMSProp')\n",
        "plt.plot(loss_at_step_adam, label='Adam')\n",
        "plt.xlabel('Training Step')\n",
        "plt.ylabel('Loss')\n",
        "plt.legend()\n",
        "plt.show()"
      ],
      "execution_count": 160,
      "outputs": [
        {
          "output_type": "display_data",
          "data": {
            "image/png": "[encoded data removed]",
            "text/plain": [
              "<Figure size 864x432 with 1 Axes>"
            ]
          },
          "metadata": {
            "needs_background": "light"
          }
        }
      ]
    },
    {
      "cell_type": "markdown",
      "metadata": {
        "id": "gd1SYRhiyckF"
      },
      "source": [
        "### Comments\n",
        "* For this simple problem, all of the optimizers performed almost equally well. However, for the default hyperparameters RMSprop acheived the fastest convergence. So, we can recommend RMSprop opimizer for this problem.\n",
        "* With a big enough batch size (64) mini-batch gradient descent performs just as good as batch gradient descent, while being more computationally efficient. So, it is preferable to batch gradient descent."
      ]
    },
    {
      "cell_type": "markdown",
      "metadata": {
        "id": "01zqtP0kzR3k"
      },
      "source": [
        "# Analysis of Results"
      ]
    },
    {
      "cell_type": "code",
      "metadata": {
        "colab": {
          "base_uri": "https://localhost:8080/"
        },
        "id": "LRnAifWezQk8",
        "outputId": "4355f59b-f616-46a5-d95b-0464e621910a"
      },
      "source": [
        "print('Optimizer\\tTraining Loss\\tTest Loss\\tTraining Accuracy\\tTest Accuracy')\n",
        "print('---------\\t-------------\\t---------\\t-----------------\\t-------------')\n",
        "print(f'Batch\\t\\t{loss_train_batch:0.4f}\\t\\t{loss_test_batch:0.4f}\\t\\t{acc_train_batch:0.3%}\\t\\t\\t{acc_test_batch:0.3%}')\n",
        "print(f'Mini-batch\\t{loss_train_minibatch:0.4f}\\t\\t{loss_test_minibatch:0.4f}\\t\\t{acc_train_minibatch:0.3%}\\t\\t\\t{acc_test_minibatch:0.3%}')\n",
        "print(f'RMSprop\\t\\t{loss_train_rmsprop:0.4f}\\t\\t{loss_test_rmsprop:0.4f}\\t\\t{acc_train_rmsprop:0.3%}\\t\\t\\t{acc_test_rmsprop:0.3%}')\n",
        "print(f'Adam\\t\\t{loss_train_adam:0.4f}\\t\\t{loss_test_adam:0.4f}\\t\\t{acc_train_adam:0.3%}\\t\\t\\t{acc_test_adam:0.3%}')"
      ],
      "execution_count": 177,
      "outputs": [
        {
          "output_type": "stream",
          "name": "stdout",
          "text": [
            "Optimizer\tTraining Loss\tTest Loss\tTraining Accuracy\tTest Accuracy\n",
            "---------\t-------------\t---------\t-----------------\t-------------\n",
            "Batch\t\t0.5027\t\t0.5105\t\t75.523%\t\t\t75.000%\n",
            "Mini-batch\t0.5027\t\t0.5105\t\t75.549%\t\t\t75.000%\n",
            "RMSprop\t\t0.5023\t\t0.5114\t\t75.625%\t\t\t75.306%\n",
            "Adam\t\t0.5022\t\t0.5118\t\t75.421%\t\t\t74.490%\n"
          ]
        }
      ]
    },
    {
      "cell_type": "markdown",
      "metadata": {
        "id": "pD6xBISq11FV"
      },
      "source": [
        "### Comments\n",
        "Almost all of the optimizers seem to acheive the same results. Although Adam seems to overfit the data a bit. However, it acheives the lowest training loss. This may also be a statistical fluke. So, we cannot recomment one optimizer over another from a results standpoint."
      ]
    }
  ]
}